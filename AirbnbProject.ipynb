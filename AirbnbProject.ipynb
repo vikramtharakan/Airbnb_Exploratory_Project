{
 "cells": [
  {
   "cell_type": "markdown",
   "metadata": {},
   "source": [
    "## AirBnb Blog Post Project\n",
    "Vikram Tharakan"
   ]
  },
  {
   "cell_type": "markdown",
   "metadata": {},
   "source": [
    "<u1>\n",
    "    <li><a href=\"#Intro\">Introduction</a></li>\n",
    "    <li><a href=\"#GatheringData\">Gathering Data</a></li>\n",
    "    <li><a href=\"#ExploringData\">Exploring the Data</a></li>\n",
    "    <li><a href=\"#Analysis\">Analysis</a></li>\n",
    "    <li><a href=\"#Conclusion\">Conclusion</a></li>\n",
    "</u1>"
   ]
  },
  {
   "cell_type": "markdown",
   "metadata": {},
   "source": [
    "<a id= 'Intro'></a>\n",
    "## Introduction"
   ]
  },
  {
   "cell_type": "code",
   "execution_count": null,
   "metadata": {},
   "outputs": [],
   "source": []
  },
  {
   "cell_type": "markdown",
   "metadata": {},
   "source": [
    "<a id ='GatheringData'></a>\n",
    "## Gathering Data"
   ]
  },
  {
   "cell_type": "code",
   "execution_count": 126,
   "metadata": {},
   "outputs": [],
   "source": [
    "import requests\n",
    "from io import BytesIO\n",
    "from zipfile import ZipFile\n",
    "from os import path, getcwd, makedirs, listdir \n",
    "import pandas as pd\n",
    "import numpy as np\n",
    "import seaborn as sb\n",
    "import matplotlib.pyplot as plt\n",
    "%matplotlib inline\n",
    "import math\n",
    "\n",
    "from sklearn.linear_model import LinearRegression\n",
    "from sklearn.model_selection import train_test_split\n",
    "from sklearn.metrics import r2_score, mean_squared_error"
   ]
  },
  {
   "cell_type": "markdown",
   "metadata": {},
   "source": [
    "There are many way to get the data from kaggle's website (the simplest being simply clicking the download button). Seeing as I will likely use kaggle again, I created a kaggle API token and then downloaded the Boston and Seattle airbnb datasets using the `kaggle dataset download {link location}` command. This was done through the command line, and I figured it would be easier to just say that's how the zip files ended up in this folder.\n",
    "\n",
    "I will now unzip these folders and save them as local dataframes that I can work with"
   ]
  },
  {
   "cell_type": "code",
   "execution_count": 7,
   "metadata": {},
   "outputs": [],
   "source": [
    "# Two locations for the data because the files have the same names and I will rename them later\n",
    "bnb_folder = ['seattle_folder','boston_folder']"
   ]
  },
  {
   "cell_type": "code",
   "execution_count": 217,
   "metadata": {},
   "outputs": [
    {
     "name": "stdout",
     "output_type": "stream",
     "text": [
      "seattle_folder exists\n",
      "boston_folder exists\n"
     ]
    }
   ],
   "source": [
    "zip_names = ['boston.zip','seattle.zip']\n",
    "location_names = ['https://www.kaggle.com/airbnb/boston/downloads/boston-airbnb-open-data.zip/1','https://www.kaggle.com/airbnb/seattle/downloads/seattle.zip/2']\n",
    "for i in bnb_folder:\n",
    "    try:\n",
    "        makedirs(i)\n",
    "    except:\n",
    "        print(str(i[:-7]) +'_folder '+'exists')\n"
   ]
  },
  {
   "cell_type": "code",
   "execution_count": 218,
   "metadata": {},
   "outputs": [],
   "source": [
    "for i in zip_names:\n",
    "    with ZipFile(i, 'r') as zipObj:\n",
    "       # Extract all the contents of zip file in different directory\n",
    "       zipObj.extractall(i[:-4]+'_folder') #Simply because these files have the same name"
   ]
  },
  {
   "cell_type": "code",
   "execution_count": 8,
   "metadata": {},
   "outputs": [],
   "source": [
    "# Importing each dataset individually and storing each in its own dataframe. Will join along ID soon\n",
    "for dataset in listdir(bnb_folder[0]):\n",
    "    if dataset == 'calendar.csv':\n",
    "        SEA_calendar = pd.read_csv(bnb_folder[0]+'/'+dataset)\n",
    "    elif dataset == 'listings.csv':\n",
    "        SEA_listings = pd.read_csv(bnb_folder[0]+'/'+dataset)\n",
    "    elif dataset == 'reviews.csv':\n",
    "        SEA_reviews = pd.read_csv(bnb_folder[0]+'/'+dataset)\n",
    "        \n",
    "for dataset in listdir(bnb_folder[1]):\n",
    "    if dataset == 'calendar.csv':\n",
    "        BOS_calendar = pd.read_csv(bnb_folder[1]+'/'+dataset)\n",
    "    elif dataset == 'listings.csv':\n",
    "        BOS_listings = pd.read_csv(bnb_folder[1]+'/'+dataset)\n",
    "    elif dataset == 'reviews.csv':\n",
    "        BOS_reviews = pd.read_csv(bnb_folder[1]+'/'+dataset)"
   ]
  },
  {
   "cell_type": "markdown",
   "metadata": {},
   "source": [
    "> The next few cells are just for my personal gain. Looking at what each datafram contains. Keep in mind we want to think of at least 3 questions that we can answer from this information"
   ]
  },
  {
   "cell_type": "code",
   "execution_count": 220,
   "metadata": {},
   "outputs": [
    {
     "name": "stdout",
     "output_type": "stream",
     "text": [
      "(1393570, 4)\n",
      "(3818, 92)\n",
      "(84849, 6)\n"
     ]
    }
   ],
   "source": [
    "print(SEA_calendar.shape)\n",
    "print(SEA_listings.shape)\n",
    "print(SEA_reviews.shape)\n"
   ]
  },
  {
   "cell_type": "code",
   "execution_count": 221,
   "metadata": {},
   "outputs": [
    {
     "name": "stdout",
     "output_type": "stream",
     "text": [
      "<class 'pandas.core.frame.DataFrame'>\n",
      "RangeIndex: 1393570 entries, 0 to 1393569\n",
      "Data columns (total 4 columns):\n",
      "listing_id    1393570 non-null int64\n",
      "date          1393570 non-null object\n",
      "available     1393570 non-null object\n",
      "price         934542 non-null object\n",
      "dtypes: int64(1), object(3)\n",
      "memory usage: 42.5+ MB\n"
     ]
    }
   ],
   "source": [
    "SEA_calendar.info()"
   ]
  },
  {
   "cell_type": "code",
   "execution_count": 222,
   "metadata": {},
   "outputs": [
    {
     "name": "stdout",
     "output_type": "stream",
     "text": [
      "<class 'pandas.core.frame.DataFrame'>\n",
      "RangeIndex: 84849 entries, 0 to 84848\n",
      "Data columns (total 6 columns):\n",
      "listing_id       84849 non-null int64\n",
      "id               84849 non-null int64\n",
      "date             84849 non-null object\n",
      "reviewer_id      84849 non-null int64\n",
      "reviewer_name    84849 non-null object\n",
      "comments         84831 non-null object\n",
      "dtypes: int64(3), object(3)\n",
      "memory usage: 3.9+ MB\n"
     ]
    }
   ],
   "source": [
    "SEA_reviews.info()"
   ]
  },
  {
   "cell_type": "code",
   "execution_count": 223,
   "metadata": {},
   "outputs": [
    {
     "name": "stdout",
     "output_type": "stream",
     "text": [
      "<class 'pandas.core.frame.DataFrame'>\n",
      "RangeIndex: 3818 entries, 0 to 3817\n",
      "Data columns (total 92 columns):\n",
      "id                                  3818 non-null int64\n",
      "listing_url                         3818 non-null object\n",
      "scrape_id                           3818 non-null int64\n",
      "last_scraped                        3818 non-null object\n",
      "name                                3818 non-null object\n",
      "summary                             3641 non-null object\n",
      "space                               3249 non-null object\n",
      "description                         3818 non-null object\n",
      "experiences_offered                 3818 non-null object\n",
      "neighborhood_overview               2786 non-null object\n",
      "notes                               2212 non-null object\n",
      "transit                             2884 non-null object\n",
      "thumbnail_url                       3498 non-null object\n",
      "medium_url                          3498 non-null object\n",
      "picture_url                         3818 non-null object\n",
      "xl_picture_url                      3498 non-null object\n",
      "host_id                             3818 non-null int64\n",
      "host_url                            3818 non-null object\n",
      "host_name                           3816 non-null object\n",
      "host_since                          3816 non-null object\n",
      "host_location                       3810 non-null object\n",
      "host_about                          2959 non-null object\n",
      "host_response_time                  3295 non-null object\n",
      "host_response_rate                  3295 non-null object\n",
      "host_acceptance_rate                3045 non-null object\n",
      "host_is_superhost                   3816 non-null object\n",
      "host_thumbnail_url                  3816 non-null object\n",
      "host_picture_url                    3816 non-null object\n",
      "host_neighbourhood                  3518 non-null object\n",
      "host_listings_count                 3816 non-null float64\n",
      "host_total_listings_count           3816 non-null float64\n",
      "host_verifications                  3818 non-null object\n",
      "host_has_profile_pic                3816 non-null object\n",
      "host_identity_verified              3816 non-null object\n",
      "street                              3818 non-null object\n",
      "neighbourhood                       3402 non-null object\n",
      "neighbourhood_cleansed              3818 non-null object\n",
      "neighbourhood_group_cleansed        3818 non-null object\n",
      "city                                3818 non-null object\n",
      "state                               3818 non-null object\n",
      "zipcode                             3811 non-null object\n",
      "market                              3818 non-null object\n",
      "smart_location                      3818 non-null object\n",
      "country_code                        3818 non-null object\n",
      "country                             3818 non-null object\n",
      "latitude                            3818 non-null float64\n",
      "longitude                           3818 non-null float64\n",
      "is_location_exact                   3818 non-null object\n",
      "property_type                       3817 non-null object\n",
      "room_type                           3818 non-null object\n",
      "accommodates                        3818 non-null int64\n",
      "bathrooms                           3802 non-null float64\n",
      "bedrooms                            3812 non-null float64\n",
      "beds                                3817 non-null float64\n",
      "bed_type                            3818 non-null object\n",
      "amenities                           3818 non-null object\n",
      "square_feet                         97 non-null float64\n",
      "price                               3818 non-null object\n",
      "weekly_price                        2009 non-null object\n",
      "monthly_price                       1517 non-null object\n",
      "security_deposit                    1866 non-null object\n",
      "cleaning_fee                        2788 non-null object\n",
      "guests_included                     3818 non-null int64\n",
      "extra_people                        3818 non-null object\n",
      "minimum_nights                      3818 non-null int64\n",
      "maximum_nights                      3818 non-null int64\n",
      "calendar_updated                    3818 non-null object\n",
      "has_availability                    3818 non-null object\n",
      "availability_30                     3818 non-null int64\n",
      "availability_60                     3818 non-null int64\n",
      "availability_90                     3818 non-null int64\n",
      "availability_365                    3818 non-null int64\n",
      "calendar_last_scraped               3818 non-null object\n",
      "number_of_reviews                   3818 non-null int64\n",
      "first_review                        3191 non-null object\n",
      "last_review                         3191 non-null object\n",
      "review_scores_rating                3171 non-null float64\n",
      "review_scores_accuracy              3160 non-null float64\n",
      "review_scores_cleanliness           3165 non-null float64\n",
      "review_scores_checkin               3160 non-null float64\n",
      "review_scores_communication         3167 non-null float64\n",
      "review_scores_location              3163 non-null float64\n",
      "review_scores_value                 3162 non-null float64\n",
      "requires_license                    3818 non-null object\n",
      "license                             0 non-null float64\n",
      "jurisdiction_names                  3818 non-null object\n",
      "instant_bookable                    3818 non-null object\n",
      "cancellation_policy                 3818 non-null object\n",
      "require_guest_profile_picture       3818 non-null object\n",
      "require_guest_phone_verification    3818 non-null object\n",
      "calculated_host_listings_count      3818 non-null int64\n",
      "reviews_per_month                   3191 non-null float64\n",
      "dtypes: float64(17), int64(13), object(62)\n",
      "memory usage: 2.7+ MB\n"
     ]
    }
   ],
   "source": [
    "SEA_listings.info()"
   ]
  },
  {
   "cell_type": "markdown",
   "metadata": {},
   "source": [
    "- Remember that `id` in the listings table is `listing_id` in both of the other tables"
   ]
  },
  {
   "cell_type": "markdown",
   "metadata": {},
   "source": [
    "### After looking at the basics of the datasets above, here are 3 questions I'd like to answer:"
   ]
  },
  {
   "cell_type": "markdown",
   "metadata": {},
   "source": [
    "<ol type=\"I\">\n",
    "    <li><a href=\"#Q1\">How does the average number of booked bnb's fluctuate throughout the year?</a></li>\n",
    "  <li><a href=\"#Q2\">Were certain words used more often than others in the names of different bnbs? Were any words associated with higher ratings?</a></li>\n",
    "  <li><a href=\"#Q3\">Can we Predict the Pricing of different bnbs? What factors are the biggest indicators of price?</a></li>\n",
    "</ol>"
   ]
  },
  {
   "cell_type": "markdown",
   "metadata": {},
   "source": [
    "<a id = 'ExploringData'></a>\n",
    "## Exploring the Data"
   ]
  },
  {
   "cell_type": "markdown",
   "metadata": {},
   "source": [
    "<a id = 'Q1'></a>\n",
    "### <u>Question 1</u> <br>\n",
    "<i> How does the average number of booked bnb's fluctuate throughout the year? </i>\n"
   ]
  },
  {
   "cell_type": "markdown",
   "metadata": {},
   "source": [
    "I'm going to merge the boston and seattle datasets into one large dataset for the calendar table to answer the first question. In order to do this I'm going to add another row element to the calendar table to indicate which city"
   ]
  },
  {
   "cell_type": "code",
   "execution_count": 9,
   "metadata": {},
   "outputs": [],
   "source": [
    "SEA_calendar1 = SEA_calendar.copy()\n",
    "SEA_calendar1['city'] = 'Seattle'\n",
    "BOS_calendar1 = BOS_calendar.copy()\n",
    "BOS_calendar1['city'] = 'Boston'\n"
   ]
  },
  {
   "cell_type": "code",
   "execution_count": 10,
   "metadata": {},
   "outputs": [],
   "source": [
    "bnb_calendar = pd.concat([SEA_calendar1, BOS_calendar1], ignore_index=True)"
   ]
  },
  {
   "cell_type": "code",
   "execution_count": 11,
   "metadata": {},
   "outputs": [],
   "source": [
    "#bnb_calendar[bnb_calendar['available'] == False]\n",
    "bnb_calendar['date'] = pd.to_datetime(bnb_calendar.date)\n"
   ]
  },
  {
   "cell_type": "markdown",
   "metadata": {},
   "source": [
    "> In order to get a look at how how this fluctuates, let's bin the data into a month/day bins, and then plot this over the course of the year (2016)"
   ]
  },
  {
   "cell_type": "code",
   "execution_count": 12,
   "metadata": {},
   "outputs": [],
   "source": [
    "# Creating new subset dataframe that only contains data from bnb's on days where they were booked\n",
    "bnb_booked_cal = bnb_calendar[bnb_calendar['available'] == 'f'].copy()\n",
    "\n",
    "# Generating time bins which will be formatted 'm/y'\n",
    "time_bin = []\n",
    "for i in bnb_booked_cal.date:\n",
    "    time_bin.append(str(i.month) + '/' + str(i.year%100))"
   ]
  },
  {
   "cell_type": "code",
   "execution_count": 13,
   "metadata": {},
   "outputs": [],
   "source": [
    "# Adding time_bin column to the booked dataframe\n",
    "bnb_booked_cal['time_bin'] = time_bin"
   ]
  },
  {
   "cell_type": "code",
   "execution_count": 14,
   "metadata": {},
   "outputs": [
    {
     "data": {
      "text/plain": [
       "9/16     102543\n",
       "10/16    100741\n",
       "12/16     81466\n",
       "11/16     81452\n",
       "5/17      57566\n",
       "7/17      56203\n",
       "4/17      56198\n",
       "3/17      55985\n",
       "8/17      55605\n",
       "6/17      54849\n",
       "1/17      49923\n",
       "1/16      47665\n",
       "7/16      44136\n",
       "2/17      43598\n",
       "8/16      42011\n",
       "4/16      38503\n",
       "5/16      38387\n",
       "2/16      37401\n",
       "6/16      37296\n",
       "3/16      34420\n",
       "9/17       8933\n",
       "Name: time_bin, dtype: int64"
      ]
     },
     "execution_count": 14,
     "metadata": {},
     "output_type": "execute_result"
    }
   ],
   "source": [
    "# Create an ordered list of time bins\n",
    "bnb_booked_cal.time_bin.value_counts()"
   ]
  },
  {
   "cell_type": "code",
   "execution_count": 15,
   "metadata": {},
   "outputs": [
    {
     "data": {
      "image/png": "[encoded data removed]",
      "text/plain": [
       "<Figure size 1080x432 with 1 Axes>"
      ]
     },
     "metadata": {
      "needs_background": "light"
     },
     "output_type": "display_data"
    }
   ],
   "source": [
    "# Plot histogram of use time\n",
    "base_color = sb.color_palette()[0]\n",
    "time_order = ['1/16', '2/16', '3/16', '4/16' , '5/16', '6/16', '7/16', '8/16', '9/16', '10/16', '11/16', \n",
    "              '12/16', '1/17', '2/17' , '3/17', '4/17', '5/17', '6/17', '7/17', '8/17', '9/17']\n",
    "\n",
    "plt.figure(figsize = (15,6))\n",
    "sb.countplot(data = bnb_booked_cal, x = 'time_bin', color = base_color, order = time_order);\n",
    "plt.xlabel('Date');\n",
    "plt.title('Bnb Usage over the year');"
   ]
  },
  {
   "cell_type": "markdown",
   "metadata": {},
   "source": [
    "* It appears that across the two cities air bnb was booked the most in the september/october time frame. <b>However, this was across two cities! Lets split up the data by city</b>"
   ]
  },
  {
   "cell_type": "code",
   "execution_count": 16,
   "metadata": {},
   "outputs": [
    {
     "data": {
      "image/png": "[encoded data removed]",
      "text/plain": [
       "<Figure size 1080x432 with 1 Axes>"
      ]
     },
     "metadata": {
      "needs_background": "light"
     },
     "output_type": "display_data"
    }
   ],
   "source": [
    "plt.figure(figsize = (15,6))\n",
    "sb.countplot(data = bnb_booked_cal, x = 'time_bin', order = time_order, hue = 'city');\n",
    "plt.xlabel('Date');\n",
    "plt.title('Bnb Usage Over the Year by City');"
   ]
  },
  {
   "cell_type": "markdown",
   "metadata": {},
   "source": [
    "This explains the large peak we saw earlier; 9/16-12/16 were so much larger due to the overlap of data. It appears that each city had different peak times. The following bullet points come from the graph above, and the few queries shown below\n",
    "* <u>Seattle</u>: Seattle had it's peak in January, specifically the first weekend of January. A quick look at the calendar at that time shows that 1/4/16 landed on a monday (after New Years weekend, explaining the spike around then). It seems that Seattle is a popular New Year's destination\n",
    "* <u>Boston</u>: Boston had it's peak in September, with the peak booking day being the day after labor day weekend. 2 weeks after labor day weekend was also very popular, suggesting September as a whole is a pretty popular month in Boston.It appears as though people like to travel here during the end of summer/early fall much more than the winter. This is very different than what we see with the Seattle booking rates. It also appears that on average, Boston is a more popular Airbnb destination than Seattle"
   ]
  },
  {
   "cell_type": "code",
   "execution_count": 17,
   "metadata": {},
   "outputs": [
    {
     "data": {
      "text/plain": [
       "2016-01-04    2083\n",
       "2016-01-07    2042\n",
       "2016-01-08    2036\n",
       "2016-01-06    1992\n",
       "2016-01-09    1962\n",
       "Name: date, dtype: int64"
      ]
     },
     "execution_count": 17,
     "metadata": {},
     "output_type": "execute_result"
    }
   ],
   "source": [
    "# Understanding why Seattle had it's peak in Jan\n",
    "bnb_booked_cal[bnb_booked_cal['city'] == 'Seattle'].date.value_counts().head()"
   ]
  },
  {
   "cell_type": "code",
   "execution_count": 18,
   "metadata": {},
   "outputs": [
    {
     "data": {
      "text/plain": [
       "2016-09-06    3016\n",
       "2016-09-16    2817\n",
       "2016-09-15    2811\n",
       "2016-09-14    2791\n",
       "2016-09-17    2783\n",
       "Name: date, dtype: int64"
      ]
     },
     "execution_count": 18,
     "metadata": {},
     "output_type": "execute_result"
    }
   ],
   "source": [
    "bnb_booked_cal[bnb_booked_cal['city'] == 'Boston'].date.value_counts().head()"
   ]
  },
  {
   "cell_type": "markdown",
   "metadata": {},
   "source": [
    "<a id = 'Q2'></a>\n",
    "### <u>Question 2</u><br>\n",
    "<i>Were certain words used more often than others in the names of different bnbs? Were any words associated with higher ratings?</i>\n"
   ]
  },
  {
   "cell_type": "code",
   "execution_count": 19,
   "metadata": {},
   "outputs": [],
   "source": [
    "SEA_listings1 = SEA_listings.copy()\n",
    "SEA_listings1['city'] = 'Seattle'\n",
    "BOS_listings1 = BOS_listings.copy()\n",
    "BOS_listings1['city'] = 'Boston'\n",
    "bnb_listings = pd.concat([SEA_listings1, BOS_listings1], ignore_index=True, sort = False)"
   ]
  },
  {
   "cell_type": "code",
   "execution_count": 20,
   "metadata": {},
   "outputs": [
    {
     "data": {
      "text/html": [
       "<div>\n",
       "<style scoped>\n",
       "    .dataframe tbody tr th:only-of-type {\n",
       "        vertical-align: middle;\n",
       "    }\n",
       "\n",
       "    .dataframe tbody tr th {\n",
       "        vertical-align: top;\n",
       "    }\n",
       "\n",
       "    .dataframe thead th {\n",
       "        text-align: right;\n",
       "    }\n",
       "</style>\n",
       "<table border=\"1\" class=\"dataframe\">\n",
       "  <thead>\n",
       "    <tr style=\"text-align: right;\">\n",
       "      <th></th>\n",
       "      <th>id</th>\n",
       "      <th>listing_url</th>\n",
       "      <th>scrape_id</th>\n",
       "      <th>last_scraped</th>\n",
       "      <th>name</th>\n",
       "      <th>summary</th>\n",
       "      <th>space</th>\n",
       "      <th>description</th>\n",
       "      <th>experiences_offered</th>\n",
       "      <th>neighborhood_overview</th>\n",
       "      <th>...</th>\n",
       "      <th>jurisdiction_names</th>\n",
       "      <th>instant_bookable</th>\n",
       "      <th>cancellation_policy</th>\n",
       "      <th>require_guest_profile_picture</th>\n",
       "      <th>require_guest_phone_verification</th>\n",
       "      <th>calculated_host_listings_count</th>\n",
       "      <th>reviews_per_month</th>\n",
       "      <th>access</th>\n",
       "      <th>interaction</th>\n",
       "      <th>house_rules</th>\n",
       "    </tr>\n",
       "  </thead>\n",
       "  <tbody>\n",
       "    <tr>\n",
       "      <th>0</th>\n",
       "      <td>241032</td>\n",
       "      <td>https://www.airbnb.com/rooms/241032</td>\n",
       "      <td>20160104002432</td>\n",
       "      <td>2016-01-04</td>\n",
       "      <td>Stylish Queen Anne Apartment</td>\n",
       "      <td>NaN</td>\n",
       "      <td>Make your self at home in this charming one-be...</td>\n",
       "      <td>Make your self at home in this charming one-be...</td>\n",
       "      <td>none</td>\n",
       "      <td>NaN</td>\n",
       "      <td>...</td>\n",
       "      <td>WASHINGTON</td>\n",
       "      <td>f</td>\n",
       "      <td>moderate</td>\n",
       "      <td>f</td>\n",
       "      <td>f</td>\n",
       "      <td>2</td>\n",
       "      <td>4.07</td>\n",
       "      <td>NaN</td>\n",
       "      <td>NaN</td>\n",
       "      <td>NaN</td>\n",
       "    </tr>\n",
       "    <tr>\n",
       "      <th>1</th>\n",
       "      <td>953595</td>\n",
       "      <td>https://www.airbnb.com/rooms/953595</td>\n",
       "      <td>20160104002432</td>\n",
       "      <td>2016-01-04</td>\n",
       "      <td>Bright &amp; Airy Queen Anne Apartment</td>\n",
       "      <td>Chemically sensitive? We've removed the irrita...</td>\n",
       "      <td>Beautiful, hypoallergenic apartment in an extr...</td>\n",
       "      <td>Chemically sensitive? We've removed the irrita...</td>\n",
       "      <td>none</td>\n",
       "      <td>Queen Anne is a wonderful, truly functional vi...</td>\n",
       "      <td>...</td>\n",
       "      <td>WASHINGTON</td>\n",
       "      <td>f</td>\n",
       "      <td>strict</td>\n",
       "      <td>t</td>\n",
       "      <td>t</td>\n",
       "      <td>6</td>\n",
       "      <td>1.48</td>\n",
       "      <td>NaN</td>\n",
       "      <td>NaN</td>\n",
       "      <td>NaN</td>\n",
       "    </tr>\n",
       "    <tr>\n",
       "      <th>2</th>\n",
       "      <td>3308979</td>\n",
       "      <td>https://www.airbnb.com/rooms/3308979</td>\n",
       "      <td>20160104002432</td>\n",
       "      <td>2016-01-04</td>\n",
       "      <td>New Modern House-Amazing water view</td>\n",
       "      <td>New modern house built in 2013.  Spectacular s...</td>\n",
       "      <td>Our house is modern, light and fresh with a wa...</td>\n",
       "      <td>New modern house built in 2013.  Spectacular s...</td>\n",
       "      <td>none</td>\n",
       "      <td>Upper Queen Anne is a charming neighborhood fu...</td>\n",
       "      <td>...</td>\n",
       "      <td>WASHINGTON</td>\n",
       "      <td>f</td>\n",
       "      <td>strict</td>\n",
       "      <td>f</td>\n",
       "      <td>f</td>\n",
       "      <td>2</td>\n",
       "      <td>1.15</td>\n",
       "      <td>NaN</td>\n",
       "      <td>NaN</td>\n",
       "      <td>NaN</td>\n",
       "    </tr>\n",
       "    <tr>\n",
       "      <th>3</th>\n",
       "      <td>7421966</td>\n",
       "      <td>https://www.airbnb.com/rooms/7421966</td>\n",
       "      <td>20160104002432</td>\n",
       "      <td>2016-01-04</td>\n",
       "      <td>Queen Anne Chateau</td>\n",
       "      <td>A charming apartment that sits atop Queen Anne...</td>\n",
       "      <td>NaN</td>\n",
       "      <td>A charming apartment that sits atop Queen Anne...</td>\n",
       "      <td>none</td>\n",
       "      <td>NaN</td>\n",
       "      <td>...</td>\n",
       "      <td>WASHINGTON</td>\n",
       "      <td>f</td>\n",
       "      <td>flexible</td>\n",
       "      <td>f</td>\n",
       "      <td>f</td>\n",
       "      <td>1</td>\n",
       "      <td>NaN</td>\n",
       "      <td>NaN</td>\n",
       "      <td>NaN</td>\n",
       "      <td>NaN</td>\n",
       "    </tr>\n",
       "    <tr>\n",
       "      <th>4</th>\n",
       "      <td>278830</td>\n",
       "      <td>https://www.airbnb.com/rooms/278830</td>\n",
       "      <td>20160104002432</td>\n",
       "      <td>2016-01-04</td>\n",
       "      <td>Charming craftsman 3 bdm house</td>\n",
       "      <td>Cozy family craftman house in beautiful neighb...</td>\n",
       "      <td>Cozy family craftman house in beautiful neighb...</td>\n",
       "      <td>Cozy family craftman house in beautiful neighb...</td>\n",
       "      <td>none</td>\n",
       "      <td>We are in the beautiful neighborhood of Queen ...</td>\n",
       "      <td>...</td>\n",
       "      <td>WASHINGTON</td>\n",
       "      <td>f</td>\n",
       "      <td>strict</td>\n",
       "      <td>f</td>\n",
       "      <td>f</td>\n",
       "      <td>1</td>\n",
       "      <td>0.89</td>\n",
       "      <td>NaN</td>\n",
       "      <td>NaN</td>\n",
       "      <td>NaN</td>\n",
       "    </tr>\n",
       "  </tbody>\n",
       "</table>\n",
       "<p>5 rows × 95 columns</p>\n",
       "</div>"
      ],
      "text/plain": [
       "        id                           listing_url       scrape_id last_scraped  \\\n",
       "0   241032   https://www.airbnb.com/rooms/241032  20160104002432   2016-01-04   \n",
       "1   953595   https://www.airbnb.com/rooms/953595  20160104002432   2016-01-04   \n",
       "2  3308979  https://www.airbnb.com/rooms/3308979  20160104002432   2016-01-04   \n",
       "3  7421966  https://www.airbnb.com/rooms/7421966  20160104002432   2016-01-04   \n",
       "4   278830   https://www.airbnb.com/rooms/278830  20160104002432   2016-01-04   \n",
       "\n",
       "                                  name  \\\n",
       "0         Stylish Queen Anne Apartment   \n",
       "1   Bright & Airy Queen Anne Apartment   \n",
       "2  New Modern House-Amazing water view   \n",
       "3                   Queen Anne Chateau   \n",
       "4       Charming craftsman 3 bdm house   \n",
       "\n",
       "                                             summary  \\\n",
       "0                                                NaN   \n",
       "1  Chemically sensitive? We've removed the irrita...   \n",
       "2  New modern house built in 2013.  Spectacular s...   \n",
       "3  A charming apartment that sits atop Queen Anne...   \n",
       "4  Cozy family craftman house in beautiful neighb...   \n",
       "\n",
       "                                               space  \\\n",
       "0  Make your self at home in this charming one-be...   \n",
       "1  Beautiful, hypoallergenic apartment in an extr...   \n",
       "2  Our house is modern, light and fresh with a wa...   \n",
       "3                                                NaN   \n",
       "4  Cozy family craftman house in beautiful neighb...   \n",
       "\n",
       "                                         description experiences_offered  \\\n",
       "0  Make your self at home in this charming one-be...                none   \n",
       "1  Chemically sensitive? We've removed the irrita...                none   \n",
       "2  New modern house built in 2013.  Spectacular s...                none   \n",
       "3  A charming apartment that sits atop Queen Anne...                none   \n",
       "4  Cozy family craftman house in beautiful neighb...                none   \n",
       "\n",
       "                               neighborhood_overview  ... jurisdiction_names  \\\n",
       "0                                                NaN  ...         WASHINGTON   \n",
       "1  Queen Anne is a wonderful, truly functional vi...  ...         WASHINGTON   \n",
       "2  Upper Queen Anne is a charming neighborhood fu...  ...         WASHINGTON   \n",
       "3                                                NaN  ...         WASHINGTON   \n",
       "4  We are in the beautiful neighborhood of Queen ...  ...         WASHINGTON   \n",
       "\n",
       "  instant_bookable cancellation_policy require_guest_profile_picture  \\\n",
       "0                f            moderate                             f   \n",
       "1                f              strict                             t   \n",
       "2                f              strict                             f   \n",
       "3                f            flexible                             f   \n",
       "4                f              strict                             f   \n",
       "\n",
       "  require_guest_phone_verification calculated_host_listings_count  \\\n",
       "0                                f                              2   \n",
       "1                                t                              6   \n",
       "2                                f                              2   \n",
       "3                                f                              1   \n",
       "4                                f                              1   \n",
       "\n",
       "   reviews_per_month access interaction house_rules  \n",
       "0               4.07    NaN         NaN         NaN  \n",
       "1               1.48    NaN         NaN         NaN  \n",
       "2               1.15    NaN         NaN         NaN  \n",
       "3                NaN    NaN         NaN         NaN  \n",
       "4               0.89    NaN         NaN         NaN  \n",
       "\n",
       "[5 rows x 95 columns]"
      ]
     },
     "execution_count": 20,
     "metadata": {},
     "output_type": "execute_result"
    }
   ],
   "source": [
    "bnb_listings.head()"
   ]
  },
  {
   "cell_type": "code",
   "execution_count": 21,
   "metadata": {},
   "outputs": [],
   "source": [
    "# Compiling a dictionary that counts the number of times a specific word shows up in the name for all listings\n",
    "name_list = bnb_listings['name']\n",
    "word_counter = dict()\n",
    "for i in name_list:\n",
    "    my_string = i.lower().split()\n",
    "    for item in my_string:\n",
    "        if item in word_counter:\n",
    "            word_counter[item] += 1\n",
    "        else:\n",
    "            word_counter[item] = 1\n",
    "    "
   ]
  },
  {
   "cell_type": "code",
   "execution_count": 22,
   "metadata": {},
   "outputs": [
    {
     "data": {
      "text/plain": [
       "[('in', 1675),\n",
       " ('room', 932),\n",
       " ('private', 669),\n",
       " ('boston', 584),\n",
       " ('hill', 554),\n",
       " ('apartment', 551),\n",
       " ('bedroom', 541),\n",
       " ('the', 528),\n",
       " ('cozy', 500),\n",
       " ('seattle', 489),\n",
       " ('studio', 485),\n",
       " ('near', 465),\n",
       " ('home', 463),\n",
       " ('to', 427),\n",
       " ('-', 402),\n",
       " ('1', 401),\n",
       " ('2', 379),\n",
       " ('modern', 366),\n",
       " ('downtown', 364),\n",
       " ('of', 345),\n",
       " ('apt', 342),\n",
       " ('&', 337),\n",
       " ('with', 321),\n",
       " ('end', 309),\n",
       " ('capitol', 292),\n",
       " ('spacious', 282),\n",
       " ('house', 276),\n",
       " ('view', 273),\n",
       " ('and', 269),\n",
       " ('south', 244),\n",
       " ('beautiful', 226),\n",
       " ('back', 226),\n",
       " ('heart', 217),\n",
       " ('bay', 216),\n",
       " ('charming', 215),\n",
       " ('1br', 215),\n",
       " ('2br', 215),\n",
       " ('condo', 210),\n",
       " ('on', 207),\n",
       " ('a', 202),\n",
       " ('luxury', 194),\n",
       " ('sunny', 191),\n",
       " ('by', 185),\n",
       " ('beacon', 185),\n",
       " ('bed', 180),\n",
       " ('location', 178),\n",
       " ('great', 173),\n",
       " ('queen', 166),\n",
       " ('suite', 166),\n",
       " ('close', 158)]"
      ]
     },
     "execution_count": 22,
     "metadata": {},
     "output_type": "execute_result"
    }
   ],
   "source": [
    "# Displaying the top 50 words in descending order in terms of the number of times it appears in the description\n",
    "word_counter\n",
    "import operator\n",
    "sorted_words = sorted(word_counter.items(), key=operator.itemgetter(1), reverse = True)\n",
    "sorted_words[:50]"
   ]
  },
  {
   "cell_type": "markdown",
   "metadata": {},
   "source": [
    "Ignoring common words, like \"in\", \"of\", and \"and\", and only looking at the top <b>descriptive</b> words, we see that the top descriptive words are\n",
    "* private\n",
    "* cozy\n",
    "* near\n",
    "* modern\n",
    "* downtown\n",
    "* spacious\n",
    "* view\n",
    "* and so on...\n",
    "\n",
    "Perhaps almost unintentionally this word break down also gave a slight insight into the breakdown of the types of bnbs offered and their relative frequency\n",
    "* room+bedroom (932+541)\n",
    "* apartments+apt (551+342)\n",
    "* studio (485)\n",
    "* home+house (463+276)<br>\n",
    "( We could also look into this breakdown, but I am going to stick with the current question for now)"
   ]
  },
  {
   "cell_type": "markdown",
   "metadata": {},
   "source": [
    "> It would be interesting to see how the price and rating breakdown changed with the usage of these words. While we could query the answers from the dataframe individually, I thought it might be nice to create a scatter plot of the associated price/rating for each word. To do this, I'm going to create a separate data frame that contains the values for the average price and rating for each word, as well as the overall average price and rating. Then, using that dataframe we can create a nice scatter plot of the data"
   ]
  },
  {
   "cell_type": "code",
   "execution_count": 23,
   "metadata": {},
   "outputs": [],
   "source": [
    "# Changing Prices to floats from strings. Have to remove '$' character and remove commas from strings\n",
    "price_list=[]\n",
    "for i in bnb_listings.price:\n",
    "    price_list.append(i[1:])\n",
    "for i in range(len(price_list)):\n",
    "    price_list[i] = price_list[i].replace(\",\", \"\")"
   ]
  },
  {
   "cell_type": "code",
   "execution_count": 24,
   "metadata": {},
   "outputs": [],
   "source": [
    "# Changing the price colomn to floats\n",
    "bnb_listings.price = price_list\n",
    "bnb_listings.price = bnb_listings.price.astype(float)"
   ]
  },
  {
   "cell_type": "code",
   "execution_count": 25,
   "metadata": {},
   "outputs": [],
   "source": [
    "#Creating the dictionary from 3 separate lists\n",
    "\n",
    "# List of the top words\n",
    "top_words = ['private', 'cozy','near','modern','downtown','spacious','view','beautiful','charming','luxury','sunny', 'average']\n",
    "\n",
    "# List of the average prices associated with each word\n",
    "prices = [bnb_listings[bnb_listings['name'].str.contains('private') == True].price.mean(),\n",
    "          bnb_listings[bnb_listings['name'].str.contains('cozy') == True].price.mean(),\n",
    "          bnb_listings[bnb_listings['name'].str.contains('near') == True].price.mean(),\n",
    "          bnb_listings[bnb_listings['name'].str.contains('modern') == True].price.mean(),\n",
    "          bnb_listings[bnb_listings['name'].str.contains('downtown') == True].price.mean(),\n",
    "          bnb_listings[bnb_listings['name'].str.contains('spacious') == True].price.mean(),\n",
    "          bnb_listings[bnb_listings['name'].str.contains('view') == True].price.mean(),\n",
    "          bnb_listings[bnb_listings['name'].str.contains('beautiful') == True].price.mean(),\n",
    "          bnb_listings[bnb_listings['name'].str.contains('charming') == True].price.mean(),\n",
    "          bnb_listings[bnb_listings['name'].str.contains('luxury') == True].price.mean(),\n",
    "          bnb_listings[bnb_listings['name'].str.contains('sunny') == True].price.mean(),\n",
    "          bnb_listings.price.mean()]\n",
    "\n",
    "# List of average rating associated with each word\n",
    "ratings = [bnb_listings[bnb_listings['name'].str.contains('private') == True].review_scores_rating.mean(),\n",
    "          bnb_listings[bnb_listings['name'].str.contains('cozy') == True].review_scores_rating.mean(),\n",
    "          bnb_listings[bnb_listings['name'].str.contains('near') == True].review_scores_rating.mean(),\n",
    "          bnb_listings[bnb_listings['name'].str.contains('modern') == True].review_scores_rating.mean(),\n",
    "          bnb_listings[bnb_listings['name'].str.contains('downtown') == True].review_scores_rating.mean(),\n",
    "          bnb_listings[bnb_listings['name'].str.contains('spacious') == True].review_scores_rating.mean(),\n",
    "          bnb_listings[bnb_listings['name'].str.contains('view') == True].review_scores_rating.mean(),\n",
    "          bnb_listings[bnb_listings['name'].str.contains('beautiful') == True].review_scores_rating.mean(),\n",
    "          bnb_listings[bnb_listings['name'].str.contains('charming') == True].review_scores_rating.mean(),\n",
    "          bnb_listings[bnb_listings['name'].str.contains('luxury') == True].review_scores_rating.mean(),\n",
    "          bnb_listings[bnb_listings['name'].str.contains('sunny') == True].review_scores_rating.mean(),\n",
    "          bnb_listings.review_scores_rating.mean()]\n",
    "\n",
    "temp_dict = {'Word':top_words,'Prices':prices,'Avg_Ratings':ratings}\n",
    "words_df = pd.DataFrame(temp_dict)"
   ]
  },
  {
   "cell_type": "code",
   "execution_count": 26,
   "metadata": {},
   "outputs": [
    {
     "data": {
      "text/html": [
       "<div>\n",
       "<style scoped>\n",
       "    .dataframe tbody tr th:only-of-type {\n",
       "        vertical-align: middle;\n",
       "    }\n",
       "\n",
       "    .dataframe tbody tr th {\n",
       "        vertical-align: top;\n",
       "    }\n",
       "\n",
       "    .dataframe thead th {\n",
       "        text-align: right;\n",
       "    }\n",
       "</style>\n",
       "<table border=\"1\" class=\"dataframe\">\n",
       "  <thead>\n",
       "    <tr style=\"text-align: right;\">\n",
       "      <th></th>\n",
       "      <th>Word</th>\n",
       "      <th>Prices</th>\n",
       "      <th>Avg_Ratings</th>\n",
       "    </tr>\n",
       "  </thead>\n",
       "  <tbody>\n",
       "    <tr>\n",
       "      <th>0</th>\n",
       "      <td>private</td>\n",
       "      <td>114.681159</td>\n",
       "      <td>93.840000</td>\n",
       "    </tr>\n",
       "    <tr>\n",
       "      <th>1</th>\n",
       "      <td>cozy</td>\n",
       "      <td>104.947368</td>\n",
       "      <td>91.636364</td>\n",
       "    </tr>\n",
       "    <tr>\n",
       "      <th>2</th>\n",
       "      <td>near</td>\n",
       "      <td>121.429043</td>\n",
       "      <td>92.602510</td>\n",
       "    </tr>\n",
       "    <tr>\n",
       "      <th>3</th>\n",
       "      <td>modern</td>\n",
       "      <td>145.021277</td>\n",
       "      <td>92.487805</td>\n",
       "    </tr>\n",
       "    <tr>\n",
       "      <th>4</th>\n",
       "      <td>downtown</td>\n",
       "      <td>117.517647</td>\n",
       "      <td>93.776119</td>\n",
       "    </tr>\n",
       "    <tr>\n",
       "      <th>5</th>\n",
       "      <td>spacious</td>\n",
       "      <td>128.969697</td>\n",
       "      <td>92.888889</td>\n",
       "    </tr>\n",
       "    <tr>\n",
       "      <th>6</th>\n",
       "      <td>view</td>\n",
       "      <td>156.410072</td>\n",
       "      <td>94.861111</td>\n",
       "    </tr>\n",
       "    <tr>\n",
       "      <th>7</th>\n",
       "      <td>beautiful</td>\n",
       "      <td>158.730769</td>\n",
       "      <td>92.869565</td>\n",
       "    </tr>\n",
       "    <tr>\n",
       "      <th>8</th>\n",
       "      <td>charming</td>\n",
       "      <td>86.833333</td>\n",
       "      <td>96.272727</td>\n",
       "    </tr>\n",
       "    <tr>\n",
       "      <th>9</th>\n",
       "      <td>luxury</td>\n",
       "      <td>140.125000</td>\n",
       "      <td>97.800000</td>\n",
       "    </tr>\n",
       "    <tr>\n",
       "      <th>10</th>\n",
       "      <td>sunny</td>\n",
       "      <td>109.828571</td>\n",
       "      <td>92.468750</td>\n",
       "    </tr>\n",
       "    <tr>\n",
       "      <th>11</th>\n",
       "      <td>average</td>\n",
       "      <td>150.227881</td>\n",
       "      <td>93.316002</td>\n",
       "    </tr>\n",
       "  </tbody>\n",
       "</table>\n",
       "</div>"
      ],
      "text/plain": [
       "         Word      Prices  Avg_Ratings\n",
       "0     private  114.681159    93.840000\n",
       "1        cozy  104.947368    91.636364\n",
       "2        near  121.429043    92.602510\n",
       "3      modern  145.021277    92.487805\n",
       "4    downtown  117.517647    93.776119\n",
       "5    spacious  128.969697    92.888889\n",
       "6        view  156.410072    94.861111\n",
       "7   beautiful  158.730769    92.869565\n",
       "8    charming   86.833333    96.272727\n",
       "9      luxury  140.125000    97.800000\n",
       "10      sunny  109.828571    92.468750\n",
       "11    average  150.227881    93.316002"
      ]
     },
     "execution_count": 26,
     "metadata": {},
     "output_type": "execute_result"
    }
   ],
   "source": [
    "words_df"
   ]
  },
  {
   "cell_type": "code",
   "execution_count": 107,
   "metadata": {},
   "outputs": [
    {
     "data": {
      "image/png": "[encoded data removed]",
      "text/plain": [
       "<Figure size 1008x504 with 1 Axes>"
      ]
     },
     "metadata": {
      "needs_background": "light"
     },
     "output_type": "display_data"
    }
   ],
   "source": [
    "fig = plt.figure(figsize = (14,7))\n",
    "ax = fig.add_subplot(111)\n",
    "ax.scatter(data = words_df, x = 'Prices',y = 'Avg_Ratings');\n",
    "ax.set_ylabel('Average Rating',size = 12);\n",
    "ax.set_xlabel('Price of Airbnb',size = 12);\n",
    "ax.set_title('Price and Rating for Airbnbs based on Top Buz Words',size = 16);\n",
    "for i, txt in enumerate(words_df.Word):\n",
    "    ax.annotate(txt, (words_df.Prices.iat[i]+.5,words_df.Avg_Ratings.iat[i]))\n",
    "#ax.set_ylim(ymin=0.0, ymax=12);"
   ]
  },
  {
   "cell_type": "markdown",
   "metadata": {},
   "source": [
    "#### While most of these \"buzz words\" have similar results to the average listing, there are a few takeaways from this plot\n",
    "* Most of these \"top buzz words\" were associated with a slightly lower price with about the same rating compared to the average. This could be due to many reasons, such as outliers in the dataset however, so we can't read too much into that without further digging\n",
    "* \"Charming\" seems to be the <i>best</i> buzz word for listings in terms of average rating and price balance. These listings appear to be quite a bit cheaper than the rest with a slightly higher satisfaction rating. I guess I'll have to look out for charming bnb's next time I book a stay!\n",
    "\n",
    "> Let's look and see if this anomolly with the word charming is just due to the difference in pricing between Seattle and Boston"
   ]
  },
  {
   "cell_type": "code",
   "execution_count": 106,
   "metadata": {},
   "outputs": [],
   "source": [
    "# Remaking the words data fram to include the mean price for each buzz word in each city.\n",
    "# Since we have changed the price column from Strings to floats, I used the bnb_listings\n",
    "# table to start with and then pick off Seattle bnb's and Boston bnb's rather than just\n",
    "# starting with the Boston and Seatte data frames that we have stored already\n",
    "\n",
    "# List of the average prices associated with each word\n",
    "SEA1_listings = bnb_listings[bnb_listings['city'] == 'Seattle'].copy()\n",
    "BOS1_listings = bnb_listings[bnb_listings['city'] == 'Boston'].copy()\n",
    "\n",
    "# Creating top words again. Has to be twice as long, for each city\n",
    "top_words_city = top_words*2\n",
    "\n",
    "# Creating city list, that will eventually be the identifier for each point\n",
    "city = ['Seattle']*12 + ['Boston']*12\n",
    "\n",
    "# Prices for each buzz word in each city\n",
    "prices_city = [SEA1_listings[SEA1_listings['name'].str.contains('private') == True].price.mean(),\n",
    "          SEA1_listings[SEA1_listings['name'].str.contains('cozy') == True].price.mean(),\n",
    "          SEA1_listings[SEA1_listings['name'].str.contains('near') == True].price.mean(),\n",
    "          SEA1_listings[SEA1_listings['name'].str.contains('modern') == True].price.mean(),\n",
    "          SEA1_listings[SEA1_listings['name'].str.contains('downtown') == True].price.mean(),\n",
    "          SEA1_listings[SEA1_listings['name'].str.contains('spacious') == True].price.mean(),\n",
    "          SEA1_listings[SEA1_listings['name'].str.contains('view') == True].price.mean(),\n",
    "          SEA1_listings[SEA1_listings['name'].str.contains('beautiful') == True].price.mean(),\n",
    "          SEA1_listings[SEA1_listings['name'].str.contains('charming') == True].price.mean(),\n",
    "          SEA1_listings[SEA1_listings['name'].str.contains('luxury') == True].price.mean(),\n",
    "          SEA1_listings[SEA1_listings['name'].str.contains('sunny') == True].price.mean(),\n",
    "          SEA1_listings.price.mean(),\n",
    "          BOS1_listings[BOS1_listings['name'].str.contains('private') == True].price.mean(),\n",
    "          BOS1_listings[BOS1_listings['name'].str.contains('cozy') == True].price.mean(),\n",
    "          BOS1_listings[BOS1_listings['name'].str.contains('near') == True].price.mean(),\n",
    "          BOS1_listings[BOS1_listings['name'].str.contains('modern') == True].price.mean(),\n",
    "          BOS1_listings[BOS1_listings['name'].str.contains('downtown') == True].price.mean(),\n",
    "          BOS1_listings[BOS1_listings['name'].str.contains('spacious') == True].price.mean(),\n",
    "          BOS1_listings[BOS1_listings['name'].str.contains('view') == True].price.mean(),\n",
    "          BOS1_listings[BOS1_listings['name'].str.contains('beautiful') == True].price.mean(),\n",
    "          BOS1_listings[BOS1_listings['name'].str.contains('charming') == True].price.mean(),\n",
    "          BOS1_listings[BOS1_listings['name'].str.contains('luxury') == True].price.mean(),\n",
    "          BOS1_listings[BOS1_listings['name'].str.contains('sunny') == True].price.mean(),\n",
    "          BOS1_listings.price.mean()]\n",
    "\n",
    "# List of average rating associated with each word in each city separately\n",
    "ratings_city = [SEA1_listings[SEA1_listings['name'].str.contains('private') == True].review_scores_rating.mean(),\n",
    "          SEA1_listings[SEA1_listings['name'].str.contains('cozy') == True].review_scores_rating.mean(),\n",
    "          SEA1_listings[SEA1_listings['name'].str.contains('near') == True].review_scores_rating.mean(),\n",
    "          SEA1_listings[SEA1_listings['name'].str.contains('modern') == True].review_scores_rating.mean(),\n",
    "          SEA1_listings[SEA1_listings['name'].str.contains('downtown') == True].review_scores_rating.mean(),\n",
    "          SEA1_listings[SEA1_listings['name'].str.contains('spacious') == True].review_scores_rating.mean(),\n",
    "          SEA1_listings[SEA1_listings['name'].str.contains('view') == True].review_scores_rating.mean(),\n",
    "          SEA1_listings[SEA1_listings['name'].str.contains('beautiful') == True].review_scores_rating.mean(),\n",
    "          SEA1_listings[SEA1_listings['name'].str.contains('charming') == True].review_scores_rating.mean(),\n",
    "          SEA1_listings[SEA1_listings['name'].str.contains('luxury') == True].review_scores_rating.mean(),\n",
    "          SEA1_listings[SEA1_listings['name'].str.contains('sunny') == True].review_scores_rating.mean(),\n",
    "          SEA1_listings.review_scores_rating.mean(),\n",
    "          BOS1_listings[BOS1_listings['name'].str.contains('private') == True].review_scores_rating.mean(),\n",
    "          BOS1_listings[BOS1_listings['name'].str.contains('cozy') == True].review_scores_rating.mean(),\n",
    "          BOS1_listings[BOS1_listings['name'].str.contains('near') == True].review_scores_rating.mean(),\n",
    "          BOS1_listings[BOS1_listings['name'].str.contains('modern') == True].review_scores_rating.mean(),\n",
    "          BOS1_listings[BOS1_listings['name'].str.contains('downtown') == True].review_scores_rating.mean(),\n",
    "          BOS1_listings[BOS1_listings['name'].str.contains('spacious') == True].review_scores_rating.mean(),\n",
    "          BOS1_listings[BOS1_listings['name'].str.contains('view') == True].review_scores_rating.mean(),\n",
    "          BOS1_listings[BOS1_listings['name'].str.contains('beautiful') == True].review_scores_rating.mean(),\n",
    "          BOS1_listings[BOS1_listings['name'].str.contains('charming') == True].review_scores_rating.mean(),\n",
    "          BOS1_listings[BOS1_listings['name'].str.contains('luxury') == True].review_scores_rating.mean(),\n",
    "          BOS1_listings[BOS1_listings['name'].str.contains('sunny') == True].review_scores_rating.mean(),\n",
    "          BOS1_listings.review_scores_rating.mean()]\n",
    "\n",
    "# Putting all these lists together in a dataframe\n",
    "temp_dict_city = {'Word':top_words_city,'Prices':prices_city,'Avg_Ratings':ratings_city,'City':city}\n",
    "words_df_city = pd.DataFrame(temp_dict_city)"
   ]
  },
  {
   "cell_type": "code",
   "execution_count": 109,
   "metadata": {},
   "outputs": [
    {
     "data": {
      "image/png": "[encoded data removed]",
      "text/plain": [
       "<Figure size 1008x576 with 1 Axes>"
      ]
     },
     "metadata": {
      "needs_background": "light"
     },
     "output_type": "display_data"
    }
   ],
   "source": [
    "# Plotting the new data frame that is separated by city\n",
    "fig = plt.figure(figsize = (14,8))\n",
    "ax = sb.scatterplot(data = words_df_city, x = 'Prices',y = 'Avg_Ratings', hue = 'City')\n",
    "ax.set_ylabel('Average Rating',size = 12);\n",
    "ax.set_xlabel('Price of Airbnb',size = 12);\n",
    "ax.set_title('Price and Rating for Airbnbs by City based on Top Buzz Words',size = 16);\n",
    "for i, txt in enumerate(words_df_city.Word):\n",
    "    ax.annotate(txt, (words_df_city.Prices.iat[i]+.5,words_df_city.Avg_Ratings.iat[i]))"
   ]
  },
  {
   "cell_type": "markdown",
   "metadata": {},
   "source": [
    "> <b> Thus we still see <u>charming</u> is the lowest price regardless of city!!</b> The rating may have not been as high for the Seattle charming bnbs, but the overall trend is still there"
   ]
  },
  {
   "cell_type": "markdown",
   "metadata": {},
   "source": [
    "<a id = 'Q3'></a>\n",
    "### <u>Question 3</u><br>\n",
    "<i>Can we Predict the Pricing of different bnbs? What factors are the biggest indicators of price?</i>"
   ]
  },
  {
   "cell_type": "markdown",
   "metadata": {},
   "source": [
    "> Let's first look at just the numeric variables that affect price. Earlier we saw that a lot of the data was incomplete, such as the ones listed below\n",
    "\n",
    "Nearly Complete\n",
    "* 'accommodates' ----------------------- complete\n",
    "* 'beds' -------------------------------- missing < 100\n",
    "* 'bathrooms' -------------------------- missing < 100\n",
    "* 'bedrooms' --------------------------- missing < 100\n",
    "* 'extra_people'  ---> should be a float, is a string (no missing data)\n",
    "\n",
    "Lots of missing data\n",
    "* 'square_feet' ------------------------ 153 non-null float64\n",
    "* 'security_deposit'-------------------- 3208 non-null object\n",
    "* 'cleaning_fee' ----------------------- 5266 non-null object\n",
    "* 'review_scores_rating' --------------- missing about 1000\n",
    "* 'review_scores_accuracy' ------------- missing about 1000\n",
    "\n",
    "\n",
    "> We can fill in `beds`, `bathrooms`, and `bedrooms` using either mean or mode, as their is not much missing information. We can use `extra_people` if we turn the datatype into a float from a string\n",
    "\n",
    "> For `square_feet`, `security_deposit`, `cleaning_fee`, `review_scores_rating`, and `review_scores_accuracy` there is a lot more missing information so we have to consider if we want to include this in our data, and if so how to do it (mean, median, k-nn?). We'll get to this question later. Let's first build up our linear model using only the first block of numeric variables.\n"
   ]
  },
  {
   "cell_type": "code",
   "execution_count": 186,
   "metadata": {},
   "outputs": [],
   "source": [
    "# Making a copy of the data before we start filling \n",
    "fill_df = bnb_listings.copy()"
   ]
  },
  {
   "cell_type": "code",
   "execution_count": 187,
   "metadata": {},
   "outputs": [],
   "source": [
    "# Create a list from the extra_person column without commas and drop the dollar sign.\n",
    "add_person =[]\n",
    "for i in fill_df.extra_people:\n",
    "    add_person.append(i[1:])\n",
    "for i in range(len(add_person)):\n",
    "    add_person[i] = add_person[i].replace(\",\", \"\")\n",
    "    \n",
    "# Changing the extra_person colomn from strings to floats\n",
    "fill_df.extra_people = add_person\n",
    "fill_df.extra_people = fill_df.extra_people.astype(float)"
   ]
  },
  {
   "cell_type": "code",
   "execution_count": 188,
   "metadata": {},
   "outputs": [],
   "source": [
    "clean_fee = []\n",
    "for i in fill_df.cleaning_fee:\n",
    "    if type(i) != float:\n",
    "        clean_fee.append(i[1:])\n",
    "    else:\n",
    "        clean_fee.append(i)\n",
    "\n",
    "for i in range(len(clean_fee)):\n",
    "    if type(clean_fee[i]) != float:\n",
    "        clean_fee[i] = clean_fee[i].replace(\",\", \"\")\n",
    "\n",
    "fill_df.cleaning_fee = clean_fee\n",
    "fill_df.cleaning_fee = fill_df.cleaning_fee.astype(float)"
   ]
  },
  {
   "cell_type": "code",
   "execution_count": 189,
   "metadata": {},
   "outputs": [],
   "source": [
    "deposit = []\n",
    "for i in fill_df.security_deposit:\n",
    "    if type(i) != float:\n",
    "        deposit.append(i[1:])\n",
    "    else:\n",
    "        deposit.append(i)\n",
    "\n",
    "for i in range(len(deposit)):\n",
    "    if type(deposit[i]) != float:\n",
    "        deposit[i] = deposit[i].replace(\",\", \"\")\n",
    "\n",
    "fill_df.security_deposit = deposit\n",
    "fill_df.security_deposit = fill_df.security_deposit.astype(float)"
   ]
  },
  {
   "cell_type": "code",
   "execution_count": 190,
   "metadata": {},
   "outputs": [
    {
     "data": {
      "text/plain": [
       "0       NaN\n",
       "1     100.0\n",
       "2    1000.0\n",
       "3       NaN\n",
       "4     700.0\n",
       "Name: security_deposit, dtype: float64"
      ]
     },
     "execution_count": 190,
     "metadata": {},
     "output_type": "execute_result"
    }
   ],
   "source": [
    "fill_df.security_deposit.head()"
   ]
  },
  {
   "cell_type": "code",
   "execution_count": 191,
   "metadata": {},
   "outputs": [
    {
     "data": {
      "image/png": "[encoded data removed]",
      "text/plain": [
       "<Figure size 432x288 with 2 Axes>"
      ]
     },
     "metadata": {
      "needs_background": "light"
     },
     "output_type": "display_data"
    }
   ],
   "source": [
    "# Get an idea of what we want to include in our model and what we can ignore\n",
    "sb.heatmap(fill_df[['price','beds', 'bathrooms', 'bedrooms','review_scores_rating','square_feet', 'extra_people',\n",
    "                   'cleaning_fee', 'security_deposit', 'accommodates', \n",
    "                    'minimum_nights', 'maximum_nights']].corr(), annot = True, fmt = \".2f\");\n",
    "\n"
   ]
  },
  {
   "cell_type": "markdown",
   "metadata": {},
   "source": [
    "> The heatmap above gives us a good indicator of what numerical vaiables we might want to use in our model and which we can avoid. It seems like minimum and maximum nights are two that can be easily dropped"
   ]
  },
  {
   "cell_type": "code",
   "execution_count": 200,
   "metadata": {},
   "outputs": [],
   "source": [
    "#Fill in bed, bathrooms, and bedrooms column with the mode\n",
    "\n",
    "# Mean function\n",
    "fill_mean = lambda col: col.fillna(col.mean())\n",
    "# Fill the mean\n",
    "fill_df[['beds', 'bathrooms', 'bedrooms','reviews_per_month']] = fill_df[['beds', 'bathrooms', 'bedrooms', 'reviews_per_month']].apply(fill_mean, axis=0)"
   ]
  },
  {
   "cell_type": "code",
   "execution_count": 202,
   "metadata": {},
   "outputs": [
    {
     "data": {
      "text/plain": [
       "0.3510108708524029"
      ]
     },
     "execution_count": 202,
     "metadata": {},
     "output_type": "execute_result"
    }
   ],
   "source": [
    "# Using min nights and max nights made model worse so they were omitted\n",
    "X = fill_df[['accommodates', 'guests_included','beds', 'bathrooms', 'bedrooms', 'extra_people', 'reviews_per_month']]\n",
    "y = fill_df['price']\n",
    "\n",
    "X_train, X_test, y_train, y_test = train_test_split(X, y, test_size = .30, random_state=42)\n",
    "\n",
    "lm_model = LinearRegression(normalize=True)\n",
    "lm_model.fit(X_train,y_train)\n",
    "\n",
    "preds = lm_model.predict(X_test)\n",
    "r2_score(y_test,preds)"
   ]
  },
  {
   "cell_type": "markdown",
   "metadata": {},
   "source": [
    "> We see that above we achieved an r^2 value of .35 using all the numerical values of interest. However there are several other categorical variables we should be concerned with like\n",
    "* 'city' ------------------ complete\n",
    "* 'room_type' ---------- complete\n",
    "* 'property_type'   ------ missing 4, see if you can fill in manually from context\n",
    "* 'bed_type' ----------- complete\n",
    "* 'amenities' ----------- would have to recategorize so we will ignore this for now\n",
    " "
   ]
  },
  {
   "cell_type": "code",
   "execution_count": 229,
   "metadata": {},
   "outputs": [
    {
     "data": {
      "text/plain": [
       "Apartment          4320\n",
       "House              2295\n",
       "Condominium         322\n",
       "Townhouse           172\n",
       "Loft                 79\n",
       "Bed & Breakfast      78\n",
       "Other                39\n",
       "Cabin                21\n",
       "Boat                 20\n",
       "Camper/RV            14\n",
       "Bungalow             13\n",
       "Villa                 6\n",
       "Tent                  5\n",
       "Entire Floor          4\n",
       "Dorm                  4\n",
       "Treehouse             3\n",
       "Chalet                2\n",
       "Yurt                  1\n",
       "Guesthouse            1\n",
       "Name: property_type, dtype: int64"
      ]
     },
     "execution_count": 229,
     "metadata": {},
     "output_type": "execute_result"
    }
   ],
   "source": [
    "fill_df.property_type.value_counts()"
   ]
  },
  {
   "cell_type": "code",
   "execution_count": 239,
   "metadata": {},
   "outputs": [
    {
     "name": "stdout",
     "output_type": "stream",
     "text": [
      "(array([2184, 5139, 5879, 7211]),)\n"
     ]
    },
    {
     "data": {
      "text/plain": [
       "\"\\n2184 = Apartment\\n5139 = Apartment\\n5879 = Other (looks like it's a hotel room, and idk where to put that so let's classify it as other for now)\\n7211 = Guesthouse\\n\\n\""
      ]
     },
     "execution_count": 239,
     "metadata": {},
     "output_type": "execute_result"
    }
   ],
   "source": [
    "# Find the location of the null property types in our data frame. Then I looked at each manually to see if I could\n",
    "# classify each based on the information in the Bnb listing\n",
    "\n",
    "null_property_locs = np.where(pd.isnull(fill_df.property_type))\n",
    "print(null_property_locs)\n",
    "fill_df.loc[7211]\n",
    "\n",
    "'''\n",
    "2184 = Apartment\n",
    "5139 = Apartment\n",
    "5879 = Other (looks like it's a hotel room, and idk where to put that so let's classify it as other for now)\n",
    "7211 = Guesthouse\n",
    "\n",
    "'''\n"
   ]
  },
  {
   "cell_type": "code",
   "execution_count": 241,
   "metadata": {},
   "outputs": [],
   "source": [
    "# Filling each of these values manually\n",
    "fill_df.loc[2184, 'property_type'] = 'Apartment'\n",
    "fill_df.loc[5139, 'property_type'] = 'Apartment'\n",
    "fill_df.loc[5879, 'property_type'] = 'Other'\n",
    "fill_df.loc[7211, 'property_type'] = 'Guesthouse'"
   ]
  },
  {
   "cell_type": "markdown",
   "metadata": {},
   "source": [
    "#### Now let's being creating a "
   ]
  },
  {
   "cell_type": "code",
   "execution_count": null,
   "metadata": {},
   "outputs": [],
   "source": []
  },
  {
   "cell_type": "code",
   "execution_count": null,
   "metadata": {},
   "outputs": [],
   "source": []
  },
  {
   "cell_type": "code",
   "execution_count": null,
   "metadata": {},
   "outputs": [],
   "source": []
  },
  {
   "cell_type": "markdown",
   "metadata": {},
   "source": [
    "<a id = 'Analysis'></a>\n",
    "## Analysis"
   ]
  },
  {
   "cell_type": "code",
   "execution_count": null,
   "metadata": {},
   "outputs": [],
   "source": []
  },
  {
   "cell_type": "code",
   "execution_count": null,
   "metadata": {},
   "outputs": [],
   "source": []
  },
  {
   "cell_type": "markdown",
   "metadata": {},
   "source": [
    "<a id = 'Conclusion'></a>\n",
    "## Conclusion"
   ]
  },
  {
   "cell_type": "code",
   "execution_count": null,
   "metadata": {},
   "outputs": [],
   "source": []
  }
 ],
 "metadata": {
  "kernelspec": {
   "display_name": "Python 3",
   "language": "python",
   "name": "python3"
  },
  "language_info": {
   "codemirror_mode": {
    "name": "ipython",
    "version": 3
   },
   "file_extension": ".py",
   "mimetype": "text/x-python",
   "name": "python",
   "nbconvert_exporter": "python",
   "pygments_lexer": "ipython3",
   "version": "3.7.2"
  }
 },
 "nbformat": 4,
 "nbformat_minor": 2
}
